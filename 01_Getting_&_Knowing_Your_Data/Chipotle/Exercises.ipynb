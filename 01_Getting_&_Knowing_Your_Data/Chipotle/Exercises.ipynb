{
 "cells": [
  {
   "cell_type": "markdown",
   "metadata": {},
   "source": [
    "# Ex2 - Getting and Knowing your Data"
   ]
  },
  {
   "cell_type": "markdown",
   "metadata": {},
   "source": [
    "This time we are going to pull data directly from the internet.\n",
    "Special thanks to: https://github.com/justmarkham for sharing the dataset and materials.\n",
    "\n",
    "### Step 1. Import the necessary libraries"
   ]
  },
  {
   "cell_type": "code",
   "execution_count": 3,
   "metadata": {},
   "outputs": [],
   "source": [
    "import pandas as pd"
   ]
  },
  {
   "cell_type": "markdown",
   "metadata": {},
   "source": [
    "### Step 2. Import the dataset from this [address](https://raw.githubusercontent.com/justmarkham/DAT8/master/data/chipotle.tsv). "
   ]
  },
  {
   "cell_type": "markdown",
   "metadata": {},
   "source": [
    "### Step 3. Assign it to a variable called chipo."
   ]
  },
  {
   "cell_type": "code",
   "execution_count": 4,
   "metadata": {},
   "outputs": [],
   "source": [
    "chipo = pd.read_csv('https://raw.githubusercontent.com/justmarkham/DAT8/master/data/chipotle.tsv', sep='\\t')"
   ]
  },
  {
   "cell_type": "markdown",
   "metadata": {},
   "source": [
    "### Step 4. See the first 10 entries"
   ]
  },
  {
   "cell_type": "code",
   "execution_count": 5,
   "metadata": {
    "scrolled": false
   },
   "outputs": [
    {
     "data": {
      "text/html": [
       "<div>\n",
       "<style scoped>\n",
       "    .dataframe tbody tr th:only-of-type {\n",
       "        vertical-align: middle;\n",
       "    }\n",
       "\n",
       "    .dataframe tbody tr th {\n",
       "        vertical-align: top;\n",
       "    }\n",
       "\n",
       "    .dataframe thead th {\n",
       "        text-align: right;\n",
       "    }\n",
       "</style>\n",
       "<table border=\"1\" class=\"dataframe\">\n",
       "  <thead>\n",
       "    <tr style=\"text-align: right;\">\n",
       "      <th></th>\n",
       "      <th>order_id</th>\n",
       "      <th>quantity</th>\n",
       "      <th>item_name</th>\n",
       "      <th>choice_description</th>\n",
       "      <th>item_price</th>\n",
       "    </tr>\n",
       "  </thead>\n",
       "  <tbody>\n",
       "    <tr>\n",
       "      <th>0</th>\n",
       "      <td>1</td>\n",
       "      <td>1</td>\n",
       "      <td>Chips and Fresh Tomato Salsa</td>\n",
       "      <td>NaN</td>\n",
       "      <td>$2.39</td>\n",
       "    </tr>\n",
       "    <tr>\n",
       "      <th>1</th>\n",
       "      <td>1</td>\n",
       "      <td>1</td>\n",
       "      <td>Izze</td>\n",
       "      <td>[Clementine]</td>\n",
       "      <td>$3.39</td>\n",
       "    </tr>\n",
       "    <tr>\n",
       "      <th>2</th>\n",
       "      <td>1</td>\n",
       "      <td>1</td>\n",
       "      <td>Nantucket Nectar</td>\n",
       "      <td>[Apple]</td>\n",
       "      <td>$3.39</td>\n",
       "    </tr>\n",
       "    <tr>\n",
       "      <th>3</th>\n",
       "      <td>1</td>\n",
       "      <td>1</td>\n",
       "      <td>Chips and Tomatillo-Green Chili Salsa</td>\n",
       "      <td>NaN</td>\n",
       "      <td>$2.39</td>\n",
       "    </tr>\n",
       "    <tr>\n",
       "      <th>4</th>\n",
       "      <td>2</td>\n",
       "      <td>2</td>\n",
       "      <td>Chicken Bowl</td>\n",
       "      <td>[Tomatillo-Red Chili Salsa (Hot), [Black Beans...</td>\n",
       "      <td>$16.98</td>\n",
       "    </tr>\n",
       "    <tr>\n",
       "      <th>5</th>\n",
       "      <td>3</td>\n",
       "      <td>1</td>\n",
       "      <td>Chicken Bowl</td>\n",
       "      <td>[Fresh Tomato Salsa (Mild), [Rice, Cheese, Sou...</td>\n",
       "      <td>$10.98</td>\n",
       "    </tr>\n",
       "    <tr>\n",
       "      <th>6</th>\n",
       "      <td>3</td>\n",
       "      <td>1</td>\n",
       "      <td>Side of Chips</td>\n",
       "      <td>NaN</td>\n",
       "      <td>$1.69</td>\n",
       "    </tr>\n",
       "    <tr>\n",
       "      <th>7</th>\n",
       "      <td>4</td>\n",
       "      <td>1</td>\n",
       "      <td>Steak Burrito</td>\n",
       "      <td>[Tomatillo Red Chili Salsa, [Fajita Vegetables...</td>\n",
       "      <td>$11.75</td>\n",
       "    </tr>\n",
       "    <tr>\n",
       "      <th>8</th>\n",
       "      <td>4</td>\n",
       "      <td>1</td>\n",
       "      <td>Steak Soft Tacos</td>\n",
       "      <td>[Tomatillo Green Chili Salsa, [Pinto Beans, Ch...</td>\n",
       "      <td>$9.25</td>\n",
       "    </tr>\n",
       "    <tr>\n",
       "      <th>9</th>\n",
       "      <td>5</td>\n",
       "      <td>1</td>\n",
       "      <td>Steak Burrito</td>\n",
       "      <td>[Fresh Tomato Salsa, [Rice, Black Beans, Pinto...</td>\n",
       "      <td>$9.25</td>\n",
       "    </tr>\n",
       "  </tbody>\n",
       "</table>\n",
       "</div>"
      ],
      "text/plain": [
       "   order_id  quantity                              item_name  \\\n",
       "0         1         1           Chips and Fresh Tomato Salsa   \n",
       "1         1         1                                   Izze   \n",
       "2         1         1                       Nantucket Nectar   \n",
       "3         1         1  Chips and Tomatillo-Green Chili Salsa   \n",
       "4         2         2                           Chicken Bowl   \n",
       "5         3         1                           Chicken Bowl   \n",
       "6         3         1                          Side of Chips   \n",
       "7         4         1                          Steak Burrito   \n",
       "8         4         1                       Steak Soft Tacos   \n",
       "9         5         1                          Steak Burrito   \n",
       "\n",
       "                                  choice_description item_price  \n",
       "0                                                NaN     $2.39   \n",
       "1                                       [Clementine]     $3.39   \n",
       "2                                            [Apple]     $3.39   \n",
       "3                                                NaN     $2.39   \n",
       "4  [Tomatillo-Red Chili Salsa (Hot), [Black Beans...    $16.98   \n",
       "5  [Fresh Tomato Salsa (Mild), [Rice, Cheese, Sou...    $10.98   \n",
       "6                                                NaN     $1.69   \n",
       "7  [Tomatillo Red Chili Salsa, [Fajita Vegetables...    $11.75   \n",
       "8  [Tomatillo Green Chili Salsa, [Pinto Beans, Ch...     $9.25   \n",
       "9  [Fresh Tomato Salsa, [Rice, Black Beans, Pinto...     $9.25   "
      ]
     },
     "execution_count": 5,
     "metadata": {},
     "output_type": "execute_result"
    }
   ],
   "source": [
    "chipo.head(10)"
   ]
  },
  {
   "cell_type": "code",
   "execution_count": 11,
   "metadata": {},
   "outputs": [
    {
     "data": {
      "text/html": [
       "<div>\n",
       "<style scoped>\n",
       "    .dataframe tbody tr th:only-of-type {\n",
       "        vertical-align: middle;\n",
       "    }\n",
       "\n",
       "    .dataframe tbody tr th {\n",
       "        vertical-align: top;\n",
       "    }\n",
       "\n",
       "    .dataframe thead th {\n",
       "        text-align: right;\n",
       "    }\n",
       "</style>\n",
       "<table border=\"1\" class=\"dataframe\">\n",
       "  <thead>\n",
       "    <tr style=\"text-align: right;\">\n",
       "      <th></th>\n",
       "      <th>order_id</th>\n",
       "      <th>quantity</th>\n",
       "      <th>item_name</th>\n",
       "      <th>choice_description</th>\n",
       "      <th>item_price</th>\n",
       "    </tr>\n",
       "  </thead>\n",
       "  <tbody>\n",
       "    <tr>\n",
       "      <th>0</th>\n",
       "      <td>1</td>\n",
       "      <td>1</td>\n",
       "      <td>Chips and Fresh Tomato Salsa</td>\n",
       "      <td>NaN</td>\n",
       "      <td>$2.39</td>\n",
       "    </tr>\n",
       "    <tr>\n",
       "      <th>1</th>\n",
       "      <td>1</td>\n",
       "      <td>1</td>\n",
       "      <td>Izze</td>\n",
       "      <td>[Clementine]</td>\n",
       "      <td>$3.39</td>\n",
       "    </tr>\n",
       "    <tr>\n",
       "      <th>2</th>\n",
       "      <td>1</td>\n",
       "      <td>1</td>\n",
       "      <td>Nantucket Nectar</td>\n",
       "      <td>[Apple]</td>\n",
       "      <td>$3.39</td>\n",
       "    </tr>\n",
       "    <tr>\n",
       "      <th>3</th>\n",
       "      <td>1</td>\n",
       "      <td>1</td>\n",
       "      <td>Chips and Tomatillo-Green Chili Salsa</td>\n",
       "      <td>NaN</td>\n",
       "      <td>$2.39</td>\n",
       "    </tr>\n",
       "    <tr>\n",
       "      <th>4</th>\n",
       "      <td>2</td>\n",
       "      <td>2</td>\n",
       "      <td>Chicken Bowl</td>\n",
       "      <td>[Tomatillo-Red Chili Salsa (Hot), [Black Beans...</td>\n",
       "      <td>$16.98</td>\n",
       "    </tr>\n",
       "    <tr>\n",
       "      <th>...</th>\n",
       "      <td>...</td>\n",
       "      <td>...</td>\n",
       "      <td>...</td>\n",
       "      <td>...</td>\n",
       "      <td>...</td>\n",
       "    </tr>\n",
       "    <tr>\n",
       "      <th>4617</th>\n",
       "      <td>1833</td>\n",
       "      <td>1</td>\n",
       "      <td>Steak Burrito</td>\n",
       "      <td>[Fresh Tomato Salsa, [Rice, Black Beans, Sour ...</td>\n",
       "      <td>$11.75</td>\n",
       "    </tr>\n",
       "    <tr>\n",
       "      <th>4618</th>\n",
       "      <td>1833</td>\n",
       "      <td>1</td>\n",
       "      <td>Steak Burrito</td>\n",
       "      <td>[Fresh Tomato Salsa, [Rice, Sour Cream, Cheese...</td>\n",
       "      <td>$11.75</td>\n",
       "    </tr>\n",
       "    <tr>\n",
       "      <th>4619</th>\n",
       "      <td>1834</td>\n",
       "      <td>1</td>\n",
       "      <td>Chicken Salad Bowl</td>\n",
       "      <td>[Fresh Tomato Salsa, [Fajita Vegetables, Pinto...</td>\n",
       "      <td>$11.25</td>\n",
       "    </tr>\n",
       "    <tr>\n",
       "      <th>4620</th>\n",
       "      <td>1834</td>\n",
       "      <td>1</td>\n",
       "      <td>Chicken Salad Bowl</td>\n",
       "      <td>[Fresh Tomato Salsa, [Fajita Vegetables, Lettu...</td>\n",
       "      <td>$8.75</td>\n",
       "    </tr>\n",
       "    <tr>\n",
       "      <th>4621</th>\n",
       "      <td>1834</td>\n",
       "      <td>1</td>\n",
       "      <td>Chicken Salad Bowl</td>\n",
       "      <td>[Fresh Tomato Salsa, [Fajita Vegetables, Pinto...</td>\n",
       "      <td>$8.75</td>\n",
       "    </tr>\n",
       "  </tbody>\n",
       "</table>\n",
       "<p>4622 rows × 5 columns</p>\n",
       "</div>"
      ],
      "text/plain": [
       "      order_id  quantity                              item_name  \\\n",
       "0            1         1           Chips and Fresh Tomato Salsa   \n",
       "1            1         1                                   Izze   \n",
       "2            1         1                       Nantucket Nectar   \n",
       "3            1         1  Chips and Tomatillo-Green Chili Salsa   \n",
       "4            2         2                           Chicken Bowl   \n",
       "...        ...       ...                                    ...   \n",
       "4617      1833         1                          Steak Burrito   \n",
       "4618      1833         1                          Steak Burrito   \n",
       "4619      1834         1                     Chicken Salad Bowl   \n",
       "4620      1834         1                     Chicken Salad Bowl   \n",
       "4621      1834         1                     Chicken Salad Bowl   \n",
       "\n",
       "                                     choice_description item_price  \n",
       "0                                                   NaN     $2.39   \n",
       "1                                          [Clementine]     $3.39   \n",
       "2                                               [Apple]     $3.39   \n",
       "3                                                   NaN     $2.39   \n",
       "4     [Tomatillo-Red Chili Salsa (Hot), [Black Beans...    $16.98   \n",
       "...                                                 ...        ...  \n",
       "4617  [Fresh Tomato Salsa, [Rice, Black Beans, Sour ...    $11.75   \n",
       "4618  [Fresh Tomato Salsa, [Rice, Sour Cream, Cheese...    $11.75   \n",
       "4619  [Fresh Tomato Salsa, [Fajita Vegetables, Pinto...    $11.25   \n",
       "4620  [Fresh Tomato Salsa, [Fajita Vegetables, Lettu...     $8.75   \n",
       "4621  [Fresh Tomato Salsa, [Fajita Vegetables, Pinto...     $8.75   \n",
       "\n",
       "[4622 rows x 5 columns]"
      ]
     },
     "metadata": {},
     "output_type": "display_data"
    }
   ],
   "source": [
    "display(chipo)"
   ]
  },
  {
   "cell_type": "markdown",
   "metadata": {},
   "source": [
    "### Step 5. What is the number of observations in the dataset?"
   ]
  },
  {
   "cell_type": "code",
   "execution_count": 8,
   "metadata": {},
   "outputs": [
    {
     "data": {
      "text/plain": [
       "4622"
      ]
     },
     "metadata": {},
     "output_type": "display_data"
    }
   ],
   "source": [
    "obs1 = len(chipo.index)\n",
    "\n",
    "display(obs1)"
   ]
  },
  {
   "cell_type": "code",
   "execution_count": 9,
   "metadata": {},
   "outputs": [
    {
     "name": "stdout",
     "output_type": "stream",
     "text": [
      "order_id              4622\n",
      "quantity              4622\n",
      "item_name             4622\n",
      "choice_description    3376\n",
      "item_price            4622\n",
      "dtype: int64\n"
     ]
    }
   ],
   "source": [
    "obs2 = chipo.count()\n",
    "\n",
    "print(obs2)\n",
    "\n"
   ]
  },
  {
   "cell_type": "markdown",
   "metadata": {},
   "source": [
    "### Step 6. What is the number of columns in the dataset?"
   ]
  },
  {
   "cell_type": "code",
   "execution_count": 14,
   "metadata": {},
   "outputs": [
    {
     "data": {
      "text/plain": [
       "5"
      ]
     },
     "execution_count": 14,
     "metadata": {},
     "output_type": "execute_result"
    }
   ],
   "source": [
    "# cols = chip.count(axis='columns') # to determine how many applicable columns per row\n",
    "# print(cols)\n",
    "\n",
    "cols = len(chipo.columns)\n",
    "cols"
   ]
  },
  {
   "cell_type": "markdown",
   "metadata": {},
   "source": [
    "### Step 7. Print the name of all the columns."
   ]
  },
  {
   "cell_type": "code",
   "execution_count": 17,
   "metadata": {},
   "outputs": [
    {
     "name": "stdout",
     "output_type": "stream",
     "text": [
      "order_id\n",
      "quantity\n",
      "item_name\n",
      "choice_description\n",
      "item_price\n"
     ]
    }
   ],
   "source": [
    "for col in chipo.columns:\n",
    "    print(col)"
   ]
  },
  {
   "cell_type": "markdown",
   "metadata": {},
   "source": [
    "### Step 8. How is the dataset indexed?"
   ]
  },
  {
   "cell_type": "code",
   "execution_count": 18,
   "metadata": {},
   "outputs": [
    {
     "data": {
      "text/plain": [
       "RangeIndex(start=0, stop=4622, step=1)"
      ]
     },
     "metadata": {},
     "output_type": "display_data"
    }
   ],
   "source": [
    "# As typical in Python, the dataset is indexed starting at 0, sequentially \n",
    "# increasing by 1 for 4622 total rows (4621 if starting from unit 1)\n",
    "# This is called integer-based indexing \n",
    "\n",
    "# Am I misunderstanding this question?\n",
    "\n",
    "display(chipo.index)"
   ]
  },
  {
   "cell_type": "markdown",
   "metadata": {},
   "source": [
    "### Step 9. Which was the most-ordered item? "
   ]
  },
  {
   "cell_type": "code",
   "execution_count": 30,
   "metadata": {},
   "outputs": [
    {
     "name": "stdout",
     "output_type": "stream",
     "text": [
      "                                       order_id  quantity  \\\n",
      "item_name                                                   \n",
      "Chicken Bowl                             713926       761   \n",
      "Chicken Burrito                          497303       591   \n",
      "Chips and Guacamole                      449959       506   \n",
      "Steak Burrito                            328437       386   \n",
      "Canned Soft Drink                        304753       351   \n",
      "Chips                                    208004       230   \n",
      "Steak Bowl                               193752       221   \n",
      "Bottled Water                            175944       211   \n",
      "Chips and Fresh Tomato Salsa             100419       130   \n",
      "Canned Soda                               76396       126   \n",
      "Chicken Salad Bowl                       117104       123   \n",
      "Chicken Soft Tacos                        98395       120   \n",
      "Side of Chips                             84769       110   \n",
      "Veggie Burrito                            80962        97   \n",
      "Barbacoa Burrito                          74718        91   \n",
      "Veggie Bowl                               72270        87   \n",
      "Carnitas Bowl                             62742        71   \n",
      "Barbacoa Bowl                             53972        66   \n",
      "Carnitas Burrito                          51652        60   \n",
      "Steak Soft Tacos                          50177        56   \n",
      "6 Pack Soft Drink                         52322        55   \n",
      "Chips and Tomatillo Red Chili Salsa       45556        50   \n",
      "Chicken Crispy Tacos                      47382        50   \n",
      "Chips and Tomatillo Green Chili Salsa     41170        45   \n",
      "Carnitas Soft Tacos                       37673        40   \n",
      "Steak Crispy Tacos                        35818        36   \n",
      "Chips and Tomatillo-Green Chili Salsa     21826        33   \n",
      "Steak Salad Bowl                          29590        31   \n",
      "Nantucket Nectar                          21814        29   \n",
      "Chips and Tomatillo-Red Chili Salsa       18344        25   \n",
      "Barbacoa Soft Tacos                       18725        25   \n",
      "Chips and Roasted Chili Corn Salsa        14999        23   \n",
      "Izze                                      10587        20   \n",
      "Veggie Salad Bowl                         17303        18   \n",
      "Chips and Roasted Chili-Corn Salsa        17462        18   \n",
      "Barbacoa Crispy Tacos                      5613        12   \n",
      "Barbacoa Salad Bowl                        9708        10   \n",
      "Chicken Salad                             10465         9   \n",
      "Carnitas Crispy Tacos                      5868         8   \n",
      "Veggie Soft Tacos                          5520         8   \n",
      "Burrito                                    1550         6   \n",
      "Veggie Salad                               7265         6   \n",
      "Carnitas Salad Bowl                        6693         6   \n",
      "Bowl                                        472         4   \n",
      "Steak Salad                                2362         4   \n",
      "Salad                                      1150         2   \n",
      "Crispy Tacos                                434         2   \n",
      "Chips and Mild Fresh Tomato Salsa           279         1   \n",
      "Carnitas Salad                             1500         1   \n",
      "Veggie Crispy Tacos                         668         1   \n",
      "\n",
      "                                                                      choice_description  \\\n",
      "item_name                                                                                  \n",
      "Chicken Bowl                           [Tomatillo-Red Chili Salsa (Hot), [Black Beans...   \n",
      "Chicken Burrito                        [Tomatillo-Green Chili Salsa (Medium), [Pinto ...   \n",
      "Chips and Guacamole                                                                    0   \n",
      "Steak Burrito                          [Tomatillo Red Chili Salsa, [Fajita Vegetables...   \n",
      "Canned Soft Drink                      [Coke][Sprite][Coke][Coke][Lemonade][Sprite][D...   \n",
      "Chips                                                                                  0   \n",
      "Steak Bowl                             [Fresh Tomato Salsa (Mild), [Black Beans, Rice...   \n",
      "Bottled Water                                                                          0   \n",
      "Chips and Fresh Tomato Salsa                                                           0   \n",
      "Canned Soda                            [Sprite][Dr. Pepper][Mountain Dew][Sprite][Dr....   \n",
      "Chicken Salad Bowl                     [Fresh Tomato Salsa, [Fajita Vegetables, Pinto...   \n",
      "Chicken Soft Tacos                     [Roasted Chili Corn Salsa, [Rice, Black Beans,...   \n",
      "Side of Chips                                                                          0   \n",
      "Veggie Burrito                         [Tomatillo Red Chili Salsa, [Fajita Vegetables...   \n",
      "Barbacoa Burrito                       [[Fresh Tomato Salsa (Mild), Tomatillo-Green C...   \n",
      "Veggie Bowl                            [Fresh Tomato Salsa, [Fajita Vegetables, Rice,...   \n",
      "Carnitas Bowl                          [Tomatillo-Red Chili Salsa (Hot), [Black Beans...   \n",
      "Barbacoa Bowl                          [Roasted Chili Corn Salsa, [Fajita Vegetables,...   \n",
      "Carnitas Burrito                       [[Tomatillo-Green Chili Salsa (Medium), Roaste...   \n",
      "Steak Soft Tacos                       [Tomatillo Green Chili Salsa, [Pinto Beans, Ch...   \n",
      "6 Pack Soft Drink                      [Sprite][Diet Coke][Coke][Diet Coke][Diet Coke...   \n",
      "Chips and Tomatillo Red Chili Salsa                                                    0   \n",
      "Chicken Crispy Tacos                   [Roasted Chili Corn Salsa, [Fajita Vegetables,...   \n",
      "Chips and Tomatillo Green Chili Salsa                                                  0   \n",
      "Carnitas Soft Tacos                    [Tomatillo Green Chili Salsa, [Fajita Vegetabl...   \n",
      "Steak Crispy Tacos                     [Fresh Tomato Salsa, Sour Cream][[Roasted Chil...   \n",
      "Chips and Tomatillo-Green Chili Salsa                                                  0   \n",
      "Steak Salad Bowl                       [Tomatillo Red Chili Salsa, [Black Beans, Chee...   \n",
      "Nantucket Nectar                       [Apple][Pomegranate Cherry][Pineapple Orange B...   \n",
      "Chips and Tomatillo-Red Chili Salsa                                                    0   \n",
      "Barbacoa Soft Tacos                    [Fresh Tomato Salsa, [Fajita Vegetables, Black...   \n",
      "Chips and Roasted Chili Corn Salsa                                                     0   \n",
      "Izze                                   [Clementine][Grapefruit][Blackberry][Blackberr...   \n",
      "Veggie Salad Bowl                      [Fresh Tomato Salsa, [Fajita Vegetables, Rice,...   \n",
      "Chips and Roasted Chili-Corn Salsa                                                     0   \n",
      "Barbacoa Crispy Tacos                  [Tomatillo Red Chili Salsa, [Rice, Black Beans...   \n",
      "Barbacoa Salad Bowl                    [Fresh Tomato Salsa, [Rice, Fajita Vegetables,...   \n",
      "Chicken Salad                          [Roasted Chili Corn Salsa (Medium), [Black Bea...   \n",
      "Carnitas Crispy Tacos                  [Roasted Chili Corn Salsa][Tomatillo Green Chi...   \n",
      "Veggie Soft Tacos                      [Tomatillo Red Chili Salsa, [Fajita Vegetables...   \n",
      "Burrito                                [Adobo-Marinated and Grilled Chicken, Pinto Be...   \n",
      "Veggie Salad                           [[Fresh Tomato Salsa (Mild), Roasted Chili Cor...   \n",
      "Carnitas Salad Bowl                    [Fresh Tomato Salsa, [Rice, Black Beans, Chees...   \n",
      "Bowl                                   [Braised Carnitas, Pinto Beans, [Sour Cream, C...   \n",
      "Steak Salad                            [Tomatillo-Red Chili Salsa (Hot), [Black Beans...   \n",
      "Salad                                  [Brown Rice, Adobo-Marinated and Grilled Chick...   \n",
      "Crispy Tacos                           [Adobo-Marinated and Grilled Steak][Adobo-Mari...   \n",
      "Chips and Mild Fresh Tomato Salsa                                                      0   \n",
      "Carnitas Salad                         [[Fresh Tomato Salsa (Mild), Roasted Chili Cor...   \n",
      "Veggie Crispy Tacos                    [Fresh Tomato Salsa (Mild), [Pinto Beans, Rice...   \n",
      "\n",
      "                                                                              item_price  \n",
      "item_name                                                                                 \n",
      "Chicken Bowl                           $16.98 $10.98 $11.25 $8.75 $8.49 $11.25 $8.75 ...  \n",
      "Chicken Burrito                        $8.49 $8.49 $10.98 $8.49 $10.98 $10.98 $8.75 $...  \n",
      "Chips and Guacamole                    $4.45 $4.45 $4.45 $4.45 $4.45 $3.99 $4.45 $3.9...  \n",
      "Steak Burrito                          $11.75 $9.25 $8.99 $11.75 $8.99 $8.99 $8.99 $8...  \n",
      "Canned Soft Drink                      $1.25 $1.25 $1.25 $1.25 $1.25 $1.25 $1.25 $1.2...  \n",
      "Chips                                  $2.15 $2.15 $2.15 $2.15 $2.15 $2.15 $4.30 $2.1...  \n",
      "Steak Bowl                             $8.99 $8.99 $11.75 $11.75 $8.99 $11.48 $9.25 $...  \n",
      "Bottled Water                          $1.09 $1.09 $1.09 $1.50 $1.50 $1.50 $3.00 $1.5...  \n",
      "Chips and Fresh Tomato Salsa           $2.39 $2.39 $2.39 $2.95 $2.95 $2.95 $2.95 $2.3...  \n",
      "Canned Soda                            $2.18 $1.09 $2.18 $1.09 $1.09 $1.09 $1.09 $2.1...  \n",
      "Chicken Salad Bowl                     $8.75 $22.50 $22.50 $8.75 $17.50 $8.75 $8.75 $...  \n",
      "Chicken Soft Tacos                     $8.75 $8.75 $8.75 $8.75 $11.25 $8.49 $8.49 $8....  \n",
      "Side of Chips                          $1.69 $1.69 $1.69 $1.69 $1.69 $1.69 $1.69 $1.6...  \n",
      "Veggie Burrito                         $11.25 $8.49 $11.25 $11.25 $10.98 $8.49 $8.49 ...  \n",
      "Barbacoa Burrito                       $8.99 $9.25 $9.25 $11.75 $11.75 $9.25 $8.99 $1...  \n",
      "Veggie Bowl                            $11.25 $8.49 $11.25 $11.25 $8.49 $11.25 $11.25...  \n",
      "Carnitas Bowl                          $8.99 $11.75 $9.25 $11.48 $8.99 $8.99 $23.50 $...  \n",
      "Barbacoa Bowl                          $11.75 $11.75 $9.25 $8.99 $9.25 $11.75 $9.25 $...  \n",
      "Carnitas Burrito                       $8.99 $9.25 $11.75 $9.25 $9.25 $9.25 $11.75 $9...  \n",
      "Steak Soft Tacos                       $9.25 $9.25 $8.99 $9.25 $8.99 $8.99 $9.25 $9.2...  \n",
      "6 Pack Soft Drink                      $6.49 $6.49 $6.49 $6.49 $6.49 $6.49 $6.49 $6.4...  \n",
      "Chips and Tomatillo Red Chili Salsa    $2.95 $2.95 $2.95 $2.95 $2.95 $2.95 $2.95 $2.9...  \n",
      "Chicken Crispy Tacos                   $8.75 $17.50 $11.25 $8.49 $8.49 $11.25 $8.75 $...  \n",
      "Chips and Tomatillo Green Chili Salsa  $2.95 $2.95 $5.90 $2.95 $2.95 $2.95 $2.95 $2.9...  \n",
      "Carnitas Soft Tacos                    $9.25 $9.25 $9.25 $9.25 $9.25 $8.99 $8.99 $8.9...  \n",
      "Steak Crispy Tacos                     $9.25 $8.99 $9.25 $8.69 $8.99 $9.25 $8.99 $9.2...  \n",
      "Chips and Tomatillo-Green Chili Salsa  $2.39 $2.39 $2.39 $2.39 $2.39 $2.39 $2.39 $2.3...  \n",
      "Steak Salad Bowl                       $23.78 $11.89 $9.39 $23.78 $11.89 $11.89 $11.8...  \n",
      "Nantucket Nectar                       $3.39 $3.39 $3.39 $3.39 $3.39 $3.39 $6.78 $3.3...  \n",
      "Chips and Tomatillo-Red Chili Salsa    $2.39 $2.39 $2.39 $2.39 $2.39 $2.39 $2.39 $2.3...  \n",
      "Barbacoa Soft Tacos                    $9.25 $9.25 $8.99 $9.25 $9.25 $11.75 $11.75 $9...  \n",
      "Chips and Roasted Chili Corn Salsa     $2.95 $2.95 $2.95 $2.95 $2.95 $2.95 $2.95 $2.9...  \n",
      "Izze                                   $3.39 $3.39 $3.39 $3.39 $3.39 $3.39 $3.39 $3.3...  \n",
      "Veggie Salad Bowl                      $11.25 $11.25 $11.25 $11.25 $8.75 $8.75 $11.25...  \n",
      "Chips and Roasted Chili-Corn Salsa     $2.39 $2.39 $2.39 $2.39 $2.39 $2.39 $2.39 $2.3...  \n",
      "Barbacoa Crispy Tacos                  $11.75 $9.25 $11.48 $11.75 $9.25 $9.25 $8.99 $...  \n",
      "Barbacoa Salad Bowl                    $11.89 $11.89 $9.39 $9.39 $9.39 $11.89 $11.89 ...  \n",
      "Chicken Salad                          $10.98 $10.98 $8.49 $8.49 $8.49 $8.49 $8.49 $8...  \n",
      "Carnitas Crispy Tacos                      $9.25 $11.75 $8.99 $11.75 $8.99 $17.98 $9.25   \n",
      "Veggie Soft Tacos                          $11.25 $8.75 $8.49 $11.25 $8.75 $8.49 $16.98   \n",
      "Burrito                                             $7.40 $7.40 $7.40 $7.40 $7.40 $7.40   \n",
      "Veggie Salad                                        $8.49 $8.49 $8.49 $8.49 $8.49 $8.49   \n",
      "Carnitas Salad Bowl                             $11.89 $9.39 $11.89 $9.39 $11.89 $11.89   \n",
      "Bowl                                                                       $22.20 $7.40   \n",
      "Steak Salad                                                     $8.99 $8.99 $8.99 $8.69   \n",
      "Salad                                                                       $7.40 $7.40   \n",
      "Crispy Tacos                                                                $7.40 $7.40   \n",
      "Chips and Mild Fresh Tomato Salsa                                                 $3.00   \n",
      "Carnitas Salad                                                                    $8.99   \n",
      "Veggie Crispy Tacos                                                               $8.49   \n"
     ]
    }
   ],
   "source": [
    "top_item = chip.groupby('item_name').sum()\n",
    "top_item = top_item.sort_values(['quantity'], ascending=False)\n",
    "print(top_item)"
   ]
  },
  {
   "cell_type": "markdown",
   "metadata": {},
   "source": [
    "### Step 10. For the most-ordered item, how many items were ordered?"
   ]
  },
  {
   "cell_type": "code",
   "execution_count": 42,
   "metadata": {},
   "outputs": [],
   "source": [
    "# item_name                              order_id      quantity\n",
    "\n",
    "# Chicken Bowl                             713926       761  \n"
   ]
  },
  {
   "cell_type": "markdown",
   "metadata": {},
   "source": [
    "### Step 11. What was the most ordered item in the choice_description column?"
   ]
  },
  {
   "cell_type": "code",
   "execution_count": 44,
   "metadata": {},
   "outputs": [
    {
     "name": "stdout",
     "output_type": "stream",
     "text": [
      "                                                    order_id  quantity  \\\n",
      "choice_description                                                       \n",
      "[Diet Coke]                                           123455       159   \n",
      "[Coke]                                                122752       143   \n",
      "[Sprite]                                               80426        89   \n",
      "[Fresh Tomato Salsa, [Rice, Black Beans, Cheese...     43088        49   \n",
      "[Fresh Tomato Salsa, [Rice, Black Beans, Cheese...     36041        42   \n",
      "...                                                      ...       ...   \n",
      "[Roasted Chili Corn Salsa, [Fajita Vegetables, ...       577         1   \n",
      "[Roasted Chili Corn Salsa, [Fajita Vegetables, ...       585         1   \n",
      "[Roasted Chili Corn Salsa, [Fajita Vegetables, ...       235         1   \n",
      "[Roasted Chili Corn Salsa, [Guacamole, Sour Cre...       987         1   \n",
      "[[Tomatillo-Red Chili Salsa (Hot), Tomatillo-Gr...      1299         1   \n",
      "\n",
      "                                                                                            item_name  \\\n",
      "choice_description                                                                                      \n",
      "[Diet Coke]                                         Canned SodaCanned SodaCanned Soda6 Pack Soft D...   \n",
      "[Coke]                                              Canned Soft DrinkCanned Soft DrinkCanned Soft ...   \n",
      "[Sprite]                                            Canned SodaCanned SodaCanned Soft Drink6 Pack ...   \n",
      "[Fresh Tomato Salsa, [Rice, Black Beans, Cheese...  Chicken BowlChicken BurritoChicken BowlChicken...   \n",
      "[Fresh Tomato Salsa, [Rice, Black Beans, Cheese...  Chicken BowlChicken BowlChicken BurritoCarnita...   \n",
      "...                                                                                               ...   \n",
      "[Roasted Chili Corn Salsa, [Fajita Vegetables, ...                                    Chicken Burrito   \n",
      "[Roasted Chili Corn Salsa, [Fajita Vegetables, ...                                       Chicken Bowl   \n",
      "[Roasted Chili Corn Salsa, [Fajita Vegetables, ...                                      Steak Burrito   \n",
      "[Roasted Chili Corn Salsa, [Guacamole, Sour Cre...                                    Chicken Burrito   \n",
      "[[Tomatillo-Red Chili Salsa (Hot), Tomatillo-Gr...                                      Barbacoa Bowl   \n",
      "\n",
      "                                                                                           item_price  \n",
      "choice_description                                                                                     \n",
      "[Diet Coke]                                         $2.18 $1.09 $1.09 $6.49 $2.18 $1.25 $1.09 $6.4...  \n",
      "[Coke]                                              $1.25 $1.25 $1.25 $6.49 $1.25 $1.25 $1.25 $1.2...  \n",
      "[Sprite]                                            $2.18 $1.09 $1.25 $6.49 $1.25 $1.25 $1.09 $1.2...  \n",
      "[Fresh Tomato Salsa, [Rice, Black Beans, Cheese...  $8.75 $8.75 $8.75 $8.75 $9.25 $8.75 $8.75 $8.7...  \n",
      "[Fresh Tomato Salsa, [Rice, Black Beans, Cheese...  $17.50 $8.75 $8.75 $9.25 $8.75 $9.25 $8.75 $8....  \n",
      "...                                                                                               ...  \n",
      "[Roasted Chili Corn Salsa, [Fajita Vegetables, ...                                            $11.25   \n",
      "[Roasted Chili Corn Salsa, [Fajita Vegetables, ...                                             $8.75   \n",
      "[Roasted Chili Corn Salsa, [Fajita Vegetables, ...                                            $11.75   \n",
      "[Roasted Chili Corn Salsa, [Guacamole, Sour Cre...                                            $11.25   \n",
      "[[Tomatillo-Red Chili Salsa (Hot), Tomatillo-Gr...                                             $8.99   \n",
      "\n",
      "[1043 rows x 4 columns]\n"
     ]
    }
   ],
   "source": [
    "most_ordered = chipo.groupby('choice_description').sum()\n",
    "most_ordered = most_ordered.sort_values(['quantity'], ascending=False)\n",
    "print(most_ordered)\n",
    "\n",
    "# According to this list based on the choice_description column, Diet Coke is most ordered"
   ]
  },
  {
   "cell_type": "markdown",
   "metadata": {},
   "source": [
    "### Step 12. How many items were orderd in total?"
   ]
  },
  {
   "cell_type": "code",
   "execution_count": 62,
   "metadata": {},
   "outputs": [
    {
     "data": {
      "text/plain": [
       "4972"
      ]
     },
     "execution_count": 62,
     "metadata": {},
     "output_type": "execute_result"
    }
   ],
   "source": [
    "#total = chipo.sort_values(by='quantity', ascending=False)\n",
    "#total = total.value_counts()\n",
    "#display(total)\n",
    "\n",
    "total = chipo.quantity.sort_values(ascending=False)\n",
    "total = total.sum()\n",
    "total"
   ]
  },
  {
   "cell_type": "markdown",
   "metadata": {},
   "source": [
    "### Step 13. Turn the item price into a float"
   ]
  },
  {
   "cell_type": "markdown",
   "metadata": {},
   "source": [
    "#### Step 13.a. Check the item price type"
   ]
  },
  {
   "cell_type": "code",
   "execution_count": 67,
   "metadata": {},
   "outputs": [
    {
     "data": {
      "text/plain": [
       "count       4622\n",
       "unique        78\n",
       "top       $8.75 \n",
       "freq         730\n",
       "Name: item_price, dtype: object"
      ]
     },
     "execution_count": 67,
     "metadata": {},
     "output_type": "execute_result"
    }
   ],
   "source": [
    "chipo.item_price.describe()"
   ]
  },
  {
   "cell_type": "markdown",
   "metadata": {},
   "source": [
    "#### Step 13.b. Create a lambda function and change the type of item price"
   ]
  },
  {
   "cell_type": "code",
   "execution_count": null,
   "metadata": {
    "collapsed": true
   },
   "outputs": [],
   "source": []
  },
  {
   "cell_type": "markdown",
   "metadata": {},
   "source": [
    "#### Step 13.c. Check the item price type"
   ]
  },
  {
   "cell_type": "code",
   "execution_count": null,
   "metadata": {},
   "outputs": [],
   "source": []
  },
  {
   "cell_type": "markdown",
   "metadata": {},
   "source": [
    "### Step 14. How much was the revenue for the period in the dataset?"
   ]
  },
  {
   "cell_type": "code",
   "execution_count": null,
   "metadata": {},
   "outputs": [],
   "source": []
  },
  {
   "cell_type": "markdown",
   "metadata": {},
   "source": [
    "### Step 15. How many orders were made in the period?"
   ]
  },
  {
   "cell_type": "code",
   "execution_count": null,
   "metadata": {},
   "outputs": [],
   "source": []
  },
  {
   "cell_type": "markdown",
   "metadata": {},
   "source": [
    "### Step 16. What is the average revenue amount per order?"
   ]
  },
  {
   "cell_type": "code",
   "execution_count": 3,
   "metadata": {},
   "outputs": [],
   "source": [
    "# Solution 1\n",
    "\n"
   ]
  },
  {
   "cell_type": "code",
   "execution_count": 4,
   "metadata": {},
   "outputs": [],
   "source": [
    "# Solution 2\n",
    "\n"
   ]
  },
  {
   "cell_type": "markdown",
   "metadata": {},
   "source": [
    "### Step 17. How many different items are sold?"
   ]
  },
  {
   "cell_type": "code",
   "execution_count": null,
   "metadata": {},
   "outputs": [],
   "source": []
  }
 ],
 "metadata": {
  "anaconda-cloud": {},
  "kernelspec": {
   "display_name": "Python 3 (ipykernel)",
   "language": "python",
   "name": "python3"
  },
  "language_info": {
   "codemirror_mode": {
    "name": "ipython",
    "version": 3
   },
   "file_extension": ".py",
   "mimetype": "text/x-python",
   "name": "python",
   "nbconvert_exporter": "python",
   "pygments_lexer": "ipython3",
   "version": "3.10.12"
  }
 },
 "nbformat": 4,
 "nbformat_minor": 1
}
